{
 "cells": [
  {
   "cell_type": "markdown",
   "metadata": {},
   "source": [
    "## Section 2.1"
   ]
  },
  {
   "cell_type": "markdown",
   "metadata": {},
   "source": [
    "### Exercise 2"
   ]
  },
  {
   "cell_type": "code",
   "execution_count": null,
   "metadata": {},
   "outputs": [],
   "source": [
    "def divide(n: int) -> int:\n",
    "    while n >= 0:\n",
    "        m = 1/n\n",
    "        n -= 1\n",
    "divide(2)"
   ]
  },
  {
   "cell_type": "markdown",
   "metadata": {},
   "source": [
    "### Exercise 3"
   ]
  },
  {
   "cell_type": "code",
   "execution_count": null,
   "metadata": {},
   "outputs": [],
   "source": [
    "def sum_list(y: list) -> int:\n",
    "    s = 0\n",
    "    for item in y:\n",
    "        s += item\n",
    "    return s\n",
    "sum_list([1,2,3,4,5])"
   ]
  },
  {
   "cell_type": "markdown",
   "metadata": {},
   "source": [
    "### Exercise 4"
   ]
  },
  {
   "cell_type": "code",
   "execution_count": null,
   "metadata": {},
   "outputs": [],
   "source": [
    "def max_diff(y: list) -> int:\n",
    "    n = len(y)\n",
    "    if n < 2:\n",
    "        return None\n",
    "    m = y[1]-y[0]\n",
    "    for i in range(2,n-1):\n",
    "        current_diff = y[i+1] - y[i]\n",
    "        if current_diff > m:\n",
    "            m = current_diff\n",
    "    return m\n",
    "max_diff([3,1,4,1,5,9])\n",
    "max_diff([3,1])\n",
    "max_diff([1])"
   ]
  },
  {
   "cell_type": "markdown",
   "metadata": {},
   "source": [
    "### Exercise 5"
   ]
  },
  {
   "cell_type": "code",
   "execution_count": null,
   "metadata": {},
   "outputs": [],
   "source": [
    "def duplicates(y: list) -> list:\n",
    "    _y = []\n",
    "    for i in range(len(y)-1):\n",
    "        current_item = y[i]\n",
    "        next_item = y[i+1]\n",
    "        if current_item == next_item:\n",
    "            if current_item not in _y:\n",
    "                _y.append(current_item)\n",
    "    return _y\n",
    "duplicates([1,1,2,3,3,3,4,5,5,5,5,5,5,4])"
   ]
  },
  {
   "cell_type": "code",
   "execution_count": null,
   "metadata": {},
   "outputs": [],
   "source": [
    "##"
   ]
  },
  {
   "cell_type": "code",
   "execution_count": null,
   "metadata": {},
   "outputs": [],
   "source": [
    "def is_palindrom(s):\n",
    "    n = len(s)\n",
    "    res = True\n",
    "    if n == 1:\n",
    "        return True\n",
    "    if n==2:\n",
    "        return False\n",
    "    for i in range(n//2):\n",
    "        if s[i] != s[n-i-1]:\n",
    "            return False\n",
    "    return res"
   ]
  },
  {
   "cell_type": "code",
   "execution_count": null,
   "metadata": {},
   "outputs": [],
   "source": [
    "is_palindrom('a')"
   ]
  },
  {
   "cell_type": "code",
   "execution_count": null,
   "metadata": {},
   "outputs": [],
   "source": [
    "is_palindrom('ab')"
   ]
  },
  {
   "cell_type": "code",
   "execution_count": null,
   "metadata": {},
   "outputs": [],
   "source": [
    "is_palindrom('abba')"
   ]
  },
  {
   "cell_type": "code",
   "execution_count": null,
   "metadata": {},
   "outputs": [],
   "source": [
    "is_palindrom('abdba')"
   ]
  },
  {
   "cell_type": "code",
   "execution_count": null,
   "metadata": {},
   "outputs": [],
   "source": [
    "is_palindrom('abdcba')"
   ]
  },
  {
   "cell_type": "code",
   "execution_count": null,
   "metadata": {},
   "outputs": [],
   "source": [
    "def expon(x,n):\n",
    "    if n == 0:\n",
    "        return 1\n",
    "    res = 1\n",
    "    if n > 0:\n",
    "        for i in range(n):\n",
    "            res *= x\n",
    "        return res\n",
    "    if n < 0:\n",
    "        return 1/expon(x, -n)        "
   ]
  },
  {
   "cell_type": "code",
   "execution_count": null,
   "metadata": {},
   "outputs": [],
   "source": [
    "expon(1,1)\n",
    "expon(1,0)\n",
    "expon(1,2)\n",
    "expon(2,2)\n",
    "expon(10,3)\n",
    "expon(10,-3)"
   ]
  },
  {
   "cell_type": "code",
   "execution_count": 1,
   "metadata": {},
   "outputs": [
    {
     "name": "stdout",
     "output_type": "stream",
     "text": [
      "1 2\n",
      "2 1\n"
     ]
    }
   ],
   "source": [
    "def interchange():\n",
    "    global x\n",
    "    global y\n",
    "    a = x\n",
    "    x = y\n",
    "    y = a\n",
    "    return\n",
    "x, y = 1, 2\n",
    "print(x,y)\n",
    "interchange()\n",
    "print(x,y)"
   ]
  },
  {
   "cell_type": "code",
   "execution_count": 2,
   "metadata": {},
   "outputs": [
    {
     "name": "stdout",
     "output_type": "stream",
     "text": [
      "1 2 3\n",
      "2 3 1\n"
     ]
    }
   ],
   "source": [
    "def interchange3():\n",
    "    global x\n",
    "    global y\n",
    "    global z\n",
    "    \n",
    "    a = x\n",
    "    b = y\n",
    "    x = b\n",
    "    y = z\n",
    "    z = a\n",
    "    return\n",
    "x,y,z = 1,2,3\n",
    "print(x,y,z)\n",
    "interchange3()\n",
    "print(x,y,z)"
   ]
  },
  {
   "cell_type": "code",
   "execution_count": 3,
   "metadata": {},
   "outputs": [
    {
     "name": "stdout",
     "output_type": "stream",
     "text": [
      "1 2 3\n",
      "2 3 1\n"
     ]
    }
   ],
   "source": [
    "def interchange3():\n",
    "    global x\n",
    "    global y\n",
    "    global z\n",
    "    \n",
    "    x,y,z = y,z,x\n",
    "    return\n",
    "x,y,z = 1,2,3\n",
    "print(x,y,z)\n",
    "interchange3()\n",
    "print(x,y,z)"
   ]
  },
  {
   "cell_type": "code",
   "execution_count": 14,
   "metadata": {},
   "outputs": [
    {
     "data": {
      "text/plain": [
       "[1, 3, 4, 5, 9, 10]"
      ]
     },
     "execution_count": 14,
     "metadata": {},
     "output_type": "execute_result"
    }
   ],
   "source": [
    "def insert_element(x,y):\n",
    "    n = len(y)\n",
    "    y_new = []\n",
    "    i = 0\n",
    "    while i < n:\n",
    "        if x > y[i]:\n",
    "            y_new.append(y[i])\n",
    "        i += 1\n",
    "    y_new.append(x)\n",
    "    for j in range(i,n):\n",
    "        y_new.append(y[j])\n",
    "    return y_new\n",
    "\n",
    "y = [1,3, 4, 5, 9]\n",
    "insert_element(10, y)"
   ]
  },
  {
   "cell_type": "code",
   "execution_count": 16,
   "metadata": {},
   "outputs": [
    {
     "data": {
      "text/plain": [
       "0"
      ]
     },
     "execution_count": 16,
     "metadata": {},
     "output_type": "execute_result"
    }
   ],
   "source": [
    "def smallest_int(y):\n",
    "    n = len(y)\n",
    "    m = y[0]\n",
    "    for item in y:\n",
    "        if item < m:\n",
    "            m = item\n",
    "    return m\n",
    "\n",
    "smallest_int([3,1,4,0,5,9])"
   ]
  },
  {
   "cell_type": "markdown",
   "metadata": {},
   "source": [
    "### Exercise 17"
   ]
  },
  {
   "cell_type": "code",
   "execution_count": 20,
   "metadata": {},
   "outputs": [
    {
     "data": {
      "text/plain": [
       "5"
      ]
     },
     "execution_count": 20,
     "metadata": {},
     "output_type": "execute_result"
    }
   ],
   "source": [
    "def first_max(y):\n",
    "    n = len(y)\n",
    "    m = y[0]\n",
    "    for i in range(n):\n",
    "        item = y[i]\n",
    "        if item > m:\n",
    "            m = item\n",
    "            j = i\n",
    "    return j\n",
    "first_max([3,1,4,1,5,9,1,9])"
   ]
  },
  {
   "cell_type": "markdown",
   "metadata": {},
   "source": [
    "### Exercise 18"
   ]
  },
  {
   "cell_type": "code",
   "execution_count": 27,
   "metadata": {},
   "outputs": [
    {
     "data": {
      "text/plain": [
       "7"
      ]
     },
     "execution_count": 27,
     "metadata": {},
     "output_type": "execute_result"
    }
   ],
   "source": [
    "def last_min(y):\n",
    "    n = len(y)\n",
    "    m = y[0]\n",
    "    for i in range(n):\n",
    "        item = y[i]\n",
    "        if m >= item:\n",
    "            m = item\n",
    "            j = i\n",
    "    return j\n",
    "last_min([0,3,1,4,1,5,9,0])"
   ]
  },
  {
   "cell_type": "markdown",
   "metadata": {},
   "source": [
    "### Exercise 19"
   ]
  },
  {
   "cell_type": "code",
   "execution_count": 37,
   "metadata": {
    "scrolled": true
   },
   "outputs": [
    {
     "data": {
      "text/plain": [
       "(3, 1, 2, 2.0)"
      ]
     },
     "execution_count": 37,
     "metadata": {},
     "output_type": "execute_result"
    }
   ],
   "source": [
    "def summarize(y):\n",
    "    list_max, list_min, list_median, list_mean = 0, 0, 0 ,0\n",
    "    \n",
    "    a, b, c = y\n",
    "    \n",
    "    list_mean = (a + b + c)/3\n",
    "    \n",
    "    if (a <= b <= c) or (c <= b <= a):\n",
    "        list_median = b\n",
    "    elif (b <= a <= c) or (c <= a <= b):\n",
    "        list_median = a\n",
    "    else:\n",
    "        list_median = c\n",
    "            \n",
    "    if (a >= b) and (a >= c):\n",
    "        list_max = a\n",
    "    elif (b >= a) and (b >= c):\n",
    "        list_max = b\n",
    "    else:\n",
    "        list_max = c\n",
    "        \n",
    "    if (a <= b) and (a <= c):\n",
    "        list_min = a\n",
    "    elif (b <= a) and (b <= c):\n",
    "        list_min = b\n",
    "    else:\n",
    "        list_min = c\n",
    "        \n",
    "        \n",
    "    return list_max, list_min, list_median, list_mean\n",
    "\n",
    "summarize([1,2,3])"
   ]
  },
  {
   "cell_type": "markdown",
   "metadata": {},
   "source": [
    "### Exercise 20"
   ]
  },
  {
   "cell_type": "code",
   "execution_count": null,
   "metadata": {},
   "outputs": [],
   "source": []
  },
  {
   "cell_type": "markdown",
   "metadata": {},
   "source": [
    "### Exercise 21"
   ]
  },
  {
   "cell_type": "code",
   "execution_count": 43,
   "metadata": {},
   "outputs": [
    {
     "data": {
      "text/plain": [
       "[1, 3, 4, 5, 9]"
      ]
     },
     "execution_count": 43,
     "metadata": {},
     "output_type": "execute_result"
    }
   ],
   "source": [
    "def sort_three(y):\n",
    "    y_new = sorted(y[:3])\n",
    "    y_new.extend(y[4:])\n",
    "    return y_new\n",
    "sort_three([3,1,4,1,5,9])"
   ]
  },
  {
   "cell_type": "markdown",
   "metadata": {},
   "source": [
    "### Exercise 22"
   ]
  },
  {
   "cell_type": "code",
   "execution_count": 46,
   "metadata": {},
   "outputs": [
    {
     "data": {
      "text/plain": [
       "'general'"
      ]
     },
     "execution_count": 46,
     "metadata": {},
     "output_type": "execute_result"
    }
   ],
   "source": [
    "def longest_word(s):\n",
    "    s = s.split(' ')\n",
    "    longest = s[0]\n",
    "    for word in s:\n",
    "        if len(word) > len(longest):\n",
    "            longest = word\n",
    "    return longest\n",
    "longest_word('I am a modern model of a modern major general')"
   ]
  },
  {
   "cell_type": "markdown",
   "metadata": {},
   "source": [
    "### Exercise 23"
   ]
  },
  {
   "cell_type": "code",
   "execution_count": 66,
   "metadata": {},
   "outputs": [
    {
     "data": {
      "text/plain": [
       "False"
      ]
     },
     "execution_count": 66,
     "metadata": {},
     "output_type": "execute_result"
    }
   ],
   "source": [
    "def onto(f, domain, codomain):\n",
    "    is_onto = True\n",
    "    for x in domain:\n",
    "        if f(x) not in codomain:\n",
    "            is_onto = False\n",
    "    return is_onto\n",
    "\n",
    "domain = ['a','b','c','d']\n",
    "codomain = [1,2,3]\n",
    "onto(lambda x: {'a':3, 'b':2, 'c':1,'d':3}[x], domain, codomain)\n",
    "_domain = list(range(500))\n",
    "domain = [-i for i in _domain]\n",
    "domain.extend(_domain)\n",
    "onto(lambda x: x**2, domain, domain)"
   ]
  },
  {
   "cell_type": "markdown",
   "metadata": {},
   "source": [
    "### Exercise 24"
   ]
  },
  {
   "cell_type": "code",
   "execution_count": 67,
   "metadata": {},
   "outputs": [
    {
     "data": {
      "text/plain": [
       "True"
      ]
     },
     "execution_count": 67,
     "metadata": {},
     "output_type": "execute_result"
    }
   ],
   "source": [
    "def one_to_one(f, domain):\n",
    "    is_one_to_one = True\n",
    "    for x in domain:\n",
    "        for y in domain:\n",
    "            if (f(x) == f(y)) and (x != y):\n",
    "                is_one_to_one = False\n",
    "    return is_one_to_one\n",
    "\n",
    "domain = ['a','b','c','d']\n",
    "def f(x):\n",
    "    return lambda x: {'a':4, 'b':5, 'c':1,'d':3}[x]\n",
    "one_to_one(f, domain)"
   ]
  },
  {
   "cell_type": "markdown",
   "metadata": {},
   "source": [
    "### Exercise 25"
   ]
  },
  {
   "cell_type": "code",
   "execution_count": null,
   "metadata": {},
   "outputs": [],
   "source": []
  },
  {
   "cell_type": "markdown",
   "metadata": {},
   "source": [
    "### Exercise 26"
   ]
  },
  {
   "cell_type": "code",
   "execution_count": null,
   "metadata": {},
   "outputs": [],
   "source": []
  },
  {
   "cell_type": "markdown",
   "metadata": {},
   "source": [
    "### Exercise 27"
   ]
  },
  {
   "cell_type": "code",
   "execution_count": null,
   "metadata": {},
   "outputs": [],
   "source": []
  },
  {
   "cell_type": "markdown",
   "metadata": {},
   "source": [
    "## Section 2.2"
   ]
  },
  {
   "cell_type": "markdown",
   "metadata": {},
   "source": [
    "### Exercise 1"
   ]
  },
  {
   "cell_type": "markdown",
   "metadata": {},
   "source": [
    "a) Need to find $C$ and $k$, such that for $x > k$, $f(x) \\leq Cg(x)$\n",
    "\n",
    "if $f(x) = 10$, for $k = 10$ and $C = 1$, $10 \\leq 1*x$\n",
    "\n",
    "b)\n",
    "\n",
    "c)\n",
    "\n",
    "d)\n",
    "\n",
    "e)\n",
    "\n",
    "f)"
   ]
  },
  {
   "cell_type": "markdown",
   "metadata": {},
   "source": [
    "\\begin{align}\n",
    "\\dot{x} & = \\sigma(y-x) \\\\\n",
    "\\dot{y} & = \\rho x - y - xz \\\\\n",
    "\\dot{z} & = -\\beta z + xy\n",
    "\\end{align}"
   ]
  },
  {
   "cell_type": "markdown",
   "metadata": {},
   "source": [
    "### Exercise 2"
   ]
  },
  {
   "cell_type": "code",
   "execution_count": null,
   "metadata": {},
   "outputs": [],
   "source": []
  },
  {
   "cell_type": "markdown",
   "metadata": {},
   "source": [
    "### Exercise 3"
   ]
  },
  {
   "cell_type": "code",
   "execution_count": null,
   "metadata": {},
   "outputs": [],
   "source": []
  },
  {
   "cell_type": "markdown",
   "metadata": {},
   "source": [
    "### Exercise 4"
   ]
  },
  {
   "cell_type": "code",
   "execution_count": null,
   "metadata": {},
   "outputs": [],
   "source": []
  },
  {
   "cell_type": "markdown",
   "metadata": {},
   "source": [
    "### Exercise 5"
   ]
  },
  {
   "cell_type": "code",
   "execution_count": null,
   "metadata": {},
   "outputs": [],
   "source": []
  },
  {
   "cell_type": "markdown",
   "metadata": {},
   "source": [
    "### Exercise 6"
   ]
  },
  {
   "cell_type": "code",
   "execution_count": null,
   "metadata": {},
   "outputs": [],
   "source": []
  },
  {
   "cell_type": "markdown",
   "metadata": {},
   "source": [
    "### Exercise 7"
   ]
  },
  {
   "cell_type": "code",
   "execution_count": null,
   "metadata": {},
   "outputs": [],
   "source": []
  },
  {
   "cell_type": "markdown",
   "metadata": {},
   "source": [
    "### Exercise 8"
   ]
  },
  {
   "cell_type": "code",
   "execution_count": null,
   "metadata": {},
   "outputs": [],
   "source": []
  },
  {
   "cell_type": "markdown",
   "metadata": {},
   "source": [
    "### Exercise 9"
   ]
  },
  {
   "cell_type": "code",
   "execution_count": null,
   "metadata": {},
   "outputs": [],
   "source": []
  },
  {
   "cell_type": "markdown",
   "metadata": {},
   "source": [
    "### Exercise 10"
   ]
  },
  {
   "cell_type": "code",
   "execution_count": null,
   "metadata": {},
   "outputs": [],
   "source": []
  }
 ],
 "metadata": {
  "kernelspec": {
   "display_name": "Python 3",
   "language": "python",
   "name": "python3"
  },
  "language_info": {
   "codemirror_mode": {
    "name": "ipython",
    "version": 3
   },
   "file_extension": ".py",
   "mimetype": "text/x-python",
   "name": "python",
   "nbconvert_exporter": "python",
   "pygments_lexer": "ipython3",
   "version": "3.7.3"
  }
 },
 "nbformat": 4,
 "nbformat_minor": 2
}
